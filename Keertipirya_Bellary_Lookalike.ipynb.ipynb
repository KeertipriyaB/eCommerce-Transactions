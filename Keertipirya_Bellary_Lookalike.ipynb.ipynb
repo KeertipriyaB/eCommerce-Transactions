{
 "cells": [
  {
   "cell_type": "code",
   "execution_count": 8,
   "id": "a0954c64-6c93-4c30-9963-b94c4c55b13a",
   "metadata": {},
   "outputs": [
    {
     "name": "stdout",
     "output_type": "stream",
     "text": [
      "Lookalike recommendations with similarity percentages saved to Lookalike.csv.\n"
     ]
    }
   ],
   "source": [
    "import pandas as pd\n",
    "from sklearn.feature_extraction.text import TfidfVectorizer\n",
    "from sklearn.metrics.pairwise import cosine_similarity\n",
    "\n",
    "# File paths\n",
    "transactions_path = r\"C:\\Users\\Keertipriya Bellary\\Transactions.csv\"\n",
    "products_path = r\"C:\\Users\\Keertipriya Bellary\\Products.csv\"\n",
    "customers_path = r\"C:\\Users\\Keertipriya Bellary\\Customers.csv\"\n",
    "\n",
    "# Step 1: Load datasets\n",
    "transactions_df = pd.read_csv(transactions_path)\n",
    "products_df = pd.read_csv(products_path)\n",
    "customers_df = pd.read_csv(customers_path)\n",
    "\n",
    "# Step 2: Data Cleaning\n",
    "transactions_df.fillna({'TotalValue': 0}, inplace=True)\n",
    "products_df.fillna({'Category': 'Unknown'}, inplace=True)\n",
    "customers_df.fillna({'Region': 'Unknown'}, inplace=True)\n",
    "\n",
    "transactions_df.drop_duplicates(inplace=True)\n",
    "products_df.drop_duplicates(inplace=True)\n",
    "customers_df.drop_duplicates(inplace=True)\n",
    "\n",
    "# Merge datasets\n",
    "merged_df = pd.merge(transactions_df, products_df, on=\"ProductID\", how=\"left\")\n",
    "merged_df = pd.merge(merged_df, customers_df, on=\"CustomerID\", how=\"left\")\n",
    "\n",
    "# Handle missing values\n",
    "merged_df.fillna({\n",
    "    'ProductName': 'Unknown',\n",
    "    'Category': 'Unknown',\n",
    "    'Region': 'Unknown'\n",
    "}, inplace=True)\n",
    "\n",
    "# Step 3: Feature Engineering\n",
    "# Combine relevant customer and product information for the lookalike model\n",
    "merged_df['CombinedInfo'] = merged_df['Region'] + \" \" + merged_df['Category'] + \" \" + merged_df['ProductName']\n",
    "\n",
    "# Create customer profiles by aggregating the combined information\n",
    "customer_profiles = merged_df.groupby('CustomerID')['CombinedInfo'].apply(' '.join).reset_index()\n",
    "\n",
    "# Vectorize the textual data using TF-IDF\n",
    "vectorizer = TfidfVectorizer(stop_words='english')\n",
    "customer_vectors = vectorizer.fit_transform(customer_profiles['CombinedInfo'])\n",
    "\n",
    "# Compute cosine similarity\n",
    "cosine_sim_matrix = cosine_similarity(customer_vectors)\n",
    "\n",
    "# Create a DataFrame for similarity matrix\n",
    "similarity_df = pd.DataFrame(cosine_sim_matrix, index=customer_profiles['CustomerID'], columns=customer_profiles['CustomerID'])\n",
    "\n",
    "# Step 4: Generate Lookalike Recommendations\n",
    "lookalike_recommendations = {}\n",
    "\n",
    "# Get the top 3 similar customers for CustomerIDs C0001 to C0020\n",
    "for customer_id in customer_profiles['CustomerID'][:20]:\n",
    "    similar_customers = similarity_df[customer_id].sort_values(ascending=False)[1:4]  # Exclude the customer themselves\n",
    "    # Convert similarity scores to percentages\n",
    "    similar_customers = similar_customers * 100  \n",
    "    recommendations = [f\"{cust_id} ({similarity:.2f}%)\" for cust_id, similarity in zip(similar_customers.index, similar_customers.values)]\n",
    "    lookalike_recommendations[customer_id] = recommendations\n",
    "\n",
    "# Step 5: Export Results to Lookalike.csv\n",
    "# Prepare data for export\n",
    "lookalike_list = [{'CustomerID': customer_id, 'Top3Lookalikes': ', '.join(lookalikes)} for customer_id, lookalikes in lookalike_recommendations.items()]\n",
    "\n",
    "# Convert list to a DataFrame\n",
    "lookalike_df = pd.DataFrame(lookalike_list)\n",
    "\n",
    "# Save the DataFrame to a CSV file\n",
    "lookalike_df.to_csv(\"Lookalike.csv\", index=False)\n",
    "\n",
    "print(\"Lookalike recommendations with similarity percentages saved to Lookalike.csv.\")\n"
   ]
  }
 ],
 "metadata": {
  "kernelspec": {
   "display_name": "Python 3 (ipykernel)",
   "language": "python",
   "name": "python3"
  },
  "language_info": {
   "codemirror_mode": {
    "name": "ipython",
    "version": 3
   },
   "file_extension": ".py",
   "mimetype": "text/x-python",
   "name": "python",
   "nbconvert_exporter": "python",
   "pygments_lexer": "ipython3",
   "version": "3.11.7"
  }
 },
 "nbformat": 4,
 "nbformat_minor": 5
}
